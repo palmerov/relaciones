{
 "cells": [
  {
   "cell_type": "code",
   "execution_count": 8,
   "id": "822fe8c5",
   "metadata": {},
   "outputs": [],
   "source": [
    "class Relation:\n",
    "    def __init__(self, nodes, rel_pairs):\n",
    "        self.nodes = nodes\n",
    "        self.rel_pairs = rel_pairs\n",
    "\n",
    "    def is_reflexive(self):\n",
    "        reflexive = True\n",
    "        for node in self.nodes:\n",
    "            if (node, node) not in self.rel_pairs:\n",
    "                reflexive = False\n",
    "                break\n",
    "        return reflexive\n",
    "\n",
    "    def is_irreflexive(self):\n",
    "        irreflexive = True\n",
    "        for node in nodes:\n",
    "            if (node, node) in self.rel_pairs:\n",
    "                irreflexive = False\n",
    "                break\n",
    "        return irreflexive\n",
    "\n",
    "    def is_symmetric(self):\n",
    "        symmetric = True\n",
    "        for (x, y) in self.rel_pairs:\n",
    "            if (y, x) not in self.rel_pairs:\n",
    "                symmetric = False\n",
    "                break\n",
    "        return symmetric\n",
    "\n",
    "    def is_transitive(self):\n",
    "        transitive = True\n",
    "        for (x, y1) in self.rel_pairs:\n",
    "            for (y2, z) in self.rel_pairs:\n",
    "                if y1==y2 and (x, z) not in self.rel_pairs:\n",
    "                    transitive = False\n",
    "                    break\n",
    "        return transitive\n",
    "\n",
    "    def is_asymmetric(self):\n",
    "        asymmetric = True\n",
    "        for (x,y) in self.rel_pairs:\n",
    "            if((y,x) in self.rel_pairs):\n",
    "                asymmetric = False\n",
    "                break\n",
    "        return asymmetric\n",
    "\n",
    "    def is_antisymmetric(self):\n",
    "        antisymmetric = True\n",
    "        for (x, y) in self.rel_pairs:\n",
    "            if x != y and (y, x) in self.rel_pairs:\n",
    "                antisymmetric = False\n",
    "                break\n",
    "        return antisymmetric\n",
    "\n",
    "    def get_reflexive_pairs(self):\n",
    "        reflexive_pairs = []\n",
    "        for (x,y) in self.rel_pairs:\n",
    "            if(x == y):\n",
    "                reflexive_pairs.append((x,y))\n",
    "        return reflexive_pairs\n",
    "\n",
    "    def get_symmetric_pairs(self):\n",
    "        symmetric_pairs = []\n",
    "        for (x,y) in self.rel_pairs:\n",
    "            if(x != y and (y,x) in self.rel_pairs):\n",
    "                symmetric_pairs.append(((x,y), (y,x)))\n",
    "        return symmetric_pairs\n",
    "\n",
    "    def get_transitive_paths(self):\n",
    "        transitive_paths = []\n",
    "        for (x,y1) in self.rel_pairs:\n",
    "            for (y2,z) in self.rel_pairs:\n",
    "                if(y1==y2 and x!=z and (x,z) in self.rel_pairs):\n",
    "                    transitive_paths.append(((x,y1), (y2,z), (x,z)))\n",
    "        return transitive_paths\n",
    "\n",
    "    def is_equivalence(self):\n",
    "        return self.is_reflexive() and self.is_symmetric() and self.is_transitive()\n",
    "\n",
    "    def is_partial_order(self):\n",
    "        return self.is_reflexive() and self.is_antisymmetric() and self.is_transitive()\n",
    "    \n",
    "    def get_hasse_diagram(self):\n",
    "        filtered_pairs: list = []\n",
    "        # filter reflexive pairs\n",
    "        for p in self.rel_pairs:\n",
    "            if p[0] != p[1]:\n",
    "                filtered_pairs.append(p)\n",
    "        # filter transitive pairs\n",
    "        for (x, y1) in filtered_pairs:\n",
    "            for (y2, z) in filtered_pairs:\n",
    "                if(y1==y2):\n",
    "                    try:\n",
    "                        transitive_pair_index = filtered_pairs.index((x, z))\n",
    "                        filtered_pairs.pop(transitive_pair_index)\n",
    "                    except ValueError:\n",
    "                        pass\n",
    "        return filtered_pairs"
   ]
  },
  {
   "cell_type": "code",
   "execution_count": 14,
   "id": "dfa2f293",
   "metadata": {},
   "outputs": [],
   "source": [
    "def show_properties(relation: Relation, name: str):\n",
    "    print('------ ', name, ' ------')\n",
    "    print('- Relation pairs: ', relation.rel_pairs)\n",
    "    reflexive = relation.is_reflexive()\n",
    "    print('- Is reflexive: ', reflexive)\n",
    "    if reflexive:\n",
    "        print('    - Pairs: ', relation.get_reflexive_pairs())\n",
    "    symmetric = relation.is_symmetric()\n",
    "    print('- Is symmetric: ', symmetric)\n",
    "    if symmetric:\n",
    "        print('    - Pairs: ', relation.get_symmetric_pairs())\n",
    "    transitive = relation.is_transitive()\n",
    "    print('- Is transitive: ', transitive)\n",
    "    if transitive:\n",
    "        print('    - Paths: ', relation.get_transitive_paths())\n",
    "    print('- Is asymmetric: ', relation.is_asymmetric())\n",
    "    print('- Is antisymmetric: ', relation.is_antisymmetric())\n",
    "    print('- Equivalence: ', relation.is_equivalence())\n",
    "    partial_order = relation.is_partial_order()\n",
    "    print('- Is partial order: ', partial_order)\n",
    "    if partial_order:\n",
    "        print('- Hasse diagram: ', relation.get_hasse_diagram())\n",
    "    print('--------------------------------')"
   ]
  },
  {
   "cell_type": "code",
   "execution_count": 3,
   "id": "34eadf4b",
   "metadata": {},
   "outputs": [
    {
     "name": "stdout",
     "output_type": "stream",
     "text": [
      "A:  [(1, 2), (2, 1), (3, 3)] is symmetric:  True\n",
      "B:  [(1, 2), (2, 3), (3, 4)] is asymmetric:  True\n",
      "C:  [(1, 1), (2, 2), (1, 2), (3, 4)] is antisymmetric:  True\n",
      "D:  [(1, 2), (2, 3), (1, 3), (3, 4), (2, 4), (1, 4)] is transitive:  True\n"
     ]
    }
   ],
   "source": [
    "# Symetric\n",
    "relation_a = Relation([1, 2, 3], [(1, 2), (2, 1), (3, 3)])\n",
    "print('A: ', relation_a.rel_pairs, 'is symmetric: ', relation_a.is_symmetric())\n",
    "\n",
    "# Asymmetric\n",
    "relation_b = Relation([1, 2, 3, 4], [(1, 2), (2, 3), (3, 4)])\n",
    "print('B: ', relation_b.rel_pairs, 'is asymmetric: ', relation_b.is_asymmetric())\n",
    "\n",
    "# Antisymmetric\n",
    "relation_c = Relation([1, 2, 3, 4], [(1, 1), (2, 2), (1, 2), (3, 4)])\n",
    "print('C: ', relation_c.rel_pairs, 'is antisymmetric: ', relation_c.is_antisymmetric())\n",
    "\n",
    "# Transitive\n",
    "relation_d = Relation([1, 2, 3, 4], [(1, 2), (2, 3), (1, 3), (3, 4), (2, 4), (1, 4)])\n",
    "print('D: ', relation_d.rel_pairs, 'is transitive: ', relation_d.is_transitive())"
   ]
  },
  {
   "cell_type": "code",
   "execution_count": 26,
   "id": "34cf5904",
   "metadata": {},
   "outputs": [
    {
     "name": "stdout",
     "output_type": "stream",
     "text": [
      "------ E ------\n",
      "E:  [(1, 1), (2, 2), (3, 3), (1, 2), (2, 3), (1, 3), (1, 4), (1, 5), (4, 5), (4, 4), (5, 5), (5, 3), (4, 3)] is reflexive:  True\n",
      "E:  [(1, 1), (2, 2), (3, 3), (1, 2), (2, 3), (1, 3), (1, 4), (1, 5), (4, 5), (4, 4), (5, 5), (5, 3), (4, 3)] is antisymmetric:  True\n",
      "E:  [(1, 1), (2, 2), (3, 3), (1, 2), (2, 3), (1, 3), (1, 4), (1, 5), (4, 5), (4, 4), (5, 5), (5, 3), (4, 3)] is transitive:  True\n",
      "E:  [(1, 1), (2, 2), (3, 3), (1, 2), (2, 3), (1, 3), (1, 4), (1, 5), (4, 5), (4, 4), (5, 5), (5, 3), (4, 3)] is partial order:  True\n",
      "------ F ------\n",
      "E:  [(1, 1), (2, 2), (3, 3), (1, 2), (2, 1), (4, 4), (5, 5), (4, 5), (5, 4)] is reflexive:  True\n",
      "E:  [(1, 1), (2, 2), (3, 3), (1, 2), (2, 1), (4, 4), (5, 5), (4, 5), (5, 4)] is symmetric:  True\n",
      "E:  [(1, 1), (2, 2), (3, 3), (1, 2), (2, 1), (4, 4), (5, 5), (4, 5), (5, 4)] is transitive:  True\n",
      "F:  [(1, 1), (2, 2), (3, 3), (1, 2), (2, 1), (4, 4), (5, 5), (4, 5), (5, 4)] is equivalence:  True\n"
     ]
    }
   ],
   "source": [
    "# Partial order\n",
    "relation_e = Relation([1, 2, 3, 4, 5], [(1, 1), (2, 2), (3, 3),(1, 2), (2, 3), (1, 3), (1, 4), (1, 5), (4, 5), (4, 4), (5, 5), (5, 3), (4, 3)])\n",
    "print('------ E ------')\n",
    "print('E: ', relation_e.rel_pairs, 'is reflexive: ', relation_e.is_reflexive())\n",
    "print('E: ', relation_e.rel_pairs, 'is antisymmetric: ', relation_e.is_antisymmetric())\n",
    "print('E: ', relation_e.rel_pairs, 'is transitive: ', relation_e.is_transitive())\n",
    "print('E: ', relation_e.rel_pairs, 'is partial order: ', relation_e.is_partial_order())\n",
    "\n",
    "# Equivalence\n",
    "relation_f = Relation([1, 2, 3, 4, 5], [(1, 1), (2, 2), (3, 3), (1, 2), (2, 1), (4, 4), (5, 5), (4, 5), (5, 4)])\n",
    "print('------ F ------')\n",
    "print('E: ', relation_f.rel_pairs, 'is reflexive: ', relation_f.is_reflexive())\n",
    "print('E: ', relation_f.rel_pairs, 'is symmetric: ', relation_f.is_symmetric())\n",
    "print('E: ', relation_f.rel_pairs, 'is transitive: ', relation_f.is_transitive())\n",
    "print('F: ', relation_f.rel_pairs, 'is equivalence: ', relation_f.is_equivalence())"
   ]
  },
  {
   "cell_type": "code",
   "execution_count": 27,
   "id": "963db377",
   "metadata": {},
   "outputs": [
    {
     "name": "stdout",
     "output_type": "stream",
     "text": [
      "------  E  ------\n",
      "- Relation pairs:  [(1, 1), (2, 2), (3, 3), (1, 2), (2, 3), (1, 3), (1, 4), (1, 5), (4, 5), (4, 4), (5, 5), (5, 3), (4, 3)]\n",
      "- Is reflexive:  True\n",
      "    - Pairs:  [(1, 1), (2, 2), (3, 3), (4, 4), (5, 5)]\n",
      "- Is symmetric:  False\n",
      "- Is transitive:  True\n",
      "    - Paths:  [((1, 1), (1, 2), (1, 2)), ((1, 1), (1, 3), (1, 3)), ((1, 1), (1, 4), (1, 4)), ((1, 1), (1, 5), (1, 5)), ((2, 2), (2, 3), (2, 3)), ((1, 2), (2, 2), (1, 2)), ((1, 2), (2, 3), (1, 3)), ((2, 3), (3, 3), (2, 3)), ((1, 3), (3, 3), (1, 3)), ((1, 4), (4, 5), (1, 5)), ((1, 4), (4, 4), (1, 4)), ((1, 4), (4, 3), (1, 3)), ((1, 5), (5, 5), (1, 5)), ((1, 5), (5, 3), (1, 3)), ((4, 5), (5, 5), (4, 5)), ((4, 5), (5, 3), (4, 3)), ((4, 4), (4, 5), (4, 5)), ((4, 4), (4, 3), (4, 3)), ((5, 5), (5, 3), (5, 3)), ((5, 3), (3, 3), (5, 3)), ((4, 3), (3, 3), (4, 3))]\n",
      "- Is asymmetric:  False\n",
      "- Is antisymmetric:  True\n",
      "- Equivalence:  False\n",
      "- Is partial order:  True\n",
      "- Hasse diagram:  [(1, 2), (2, 3), (1, 4), (4, 5), (5, 3)]\n",
      "--------------------------------\n",
      "------  F  ------\n",
      "- Relation pairs:  [(1, 1), (2, 2), (3, 3), (1, 2), (2, 1), (4, 4), (5, 5), (4, 5), (5, 4)]\n",
      "- Is reflexive:  True\n",
      "    - Pairs:  [(1, 1), (2, 2), (3, 3), (4, 4), (5, 5)]\n",
      "- Is symmetric:  True\n",
      "    - Pairs:  [((1, 2), (2, 1)), ((2, 1), (1, 2)), ((4, 5), (5, 4)), ((5, 4), (4, 5))]\n",
      "- Is transitive:  True\n",
      "    - Paths:  [((1, 1), (1, 2), (1, 2)), ((2, 2), (2, 1), (2, 1)), ((1, 2), (2, 2), (1, 2)), ((2, 1), (1, 1), (2, 1)), ((4, 4), (4, 5), (4, 5)), ((5, 5), (5, 4), (5, 4)), ((4, 5), (5, 5), (4, 5)), ((5, 4), (4, 4), (5, 4))]\n",
      "- Is asymmetric:  False\n",
      "- Is antisymmetric:  False\n",
      "- Equivalence:  True\n",
      "- Is partial order:  False\n",
      "--------------------------------\n"
     ]
    }
   ],
   "source": [
    "show_properties(relation_e, 'E')\n",
    "show_properties(relation_f, 'F')"
   ]
  },
  {
   "cell_type": "code",
   "execution_count": 28,
   "id": "8158b710",
   "metadata": {},
   "outputs": [
    {
     "data": {
      "image/png": "[encoded data removed]",
      "text/plain": [
       "<Figure size 640x480 with 1 Axes>"
      ]
     },
     "metadata": {},
     "output_type": "display_data"
    }
   ],
   "source": [
    "# Print hasse diagram\n",
    "import matplotlib.pyplot as plt\n",
    "import networkx as nx\n",
    "\n",
    "def plot_hasse_diagram(relation: Relation):\n",
    "    hasse_diagram = relation.get_hasse_diagram()\n",
    "    G = nx.DiGraph()\n",
    "    G.add_edges_from(hasse_diagram)\n",
    "    nx.draw(G, with_labels=True)\n",
    "    plt.show()\n",
    "    \n",
    "plot_hasse_diagram(relation_e)"
   ]
  }
 ],
 "metadata": {
  "kernelspec": {
   "display_name": "iot-3.11.10",
   "language": "python",
   "name": "python3"
  },
  "language_info": {
   "codemirror_mode": {
    "name": "ipython",
    "version": 3
   },
   "file_extension": ".py",
   "mimetype": "text/x-python",
   "name": "python",
   "nbconvert_exporter": "python",
   "pygments_lexer": "ipython3",
   "version": "3.11.10"
  }
 },
 "nbformat": 4,
 "nbformat_minor": 5
}
